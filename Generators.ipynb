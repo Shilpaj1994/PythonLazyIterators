{
  "nbformat": 4,
  "nbformat_minor": 0,
  "metadata": {
    "colab": {
      "name": "Generators.ipynb",
      "provenance": []
    },
    "kernelspec": {
      "name": "python3",
      "display_name": "Python 3"
    },
    "language_info": {
      "name": "python"
    }
  },
  "cells": [
    {
      "cell_type": "markdown",
      "metadata": {
        "id": "GLrHOAsJWhLu"
      },
      "source": [
        "## Generators"
      ]
    },
    {
      "cell_type": "code",
      "metadata": {
        "id": "n8ek0TLGWlBz"
      },
      "source": [
        "def my_func():\n",
        "    i = 0\n",
        "    print(i)\n",
        "    i += 1\n",
        "    yield \"Flying\"\n",
        "    print(i)\n",
        "    yield 'Jeans'"
      ],
      "execution_count": 25,
      "outputs": []
    },
    {
      "cell_type": "code",
      "metadata": {
        "colab": {
          "base_uri": "https://localhost:8080/"
        },
        "id": "k3DTtQLJWm6U",
        "outputId": "dd4552dd-df3f-4c2e-88c5-561d6c808fc4"
      },
      "source": [
        "my_func()"
      ],
      "execution_count": 26,
      "outputs": [
        {
          "output_type": "execute_result",
          "data": {
            "text/plain": [
              "<generator object my_func at 0x7f1504550950>"
            ]
          },
          "metadata": {
            "tags": []
          },
          "execution_count": 26
        }
      ]
    },
    {
      "cell_type": "code",
      "metadata": {
        "colab": {
          "base_uri": "https://localhost:8080/",
          "height": 52
        },
        "id": "1fxGyUoNWoha",
        "outputId": "f5a66cc6-c028-4553-c61e-c64d616d7395"
      },
      "source": [
        "generator = my_func()\n",
        "next(generator)"
      ],
      "execution_count": 27,
      "outputs": [
        {
          "output_type": "stream",
          "text": [
            "0\n"
          ],
          "name": "stdout"
        },
        {
          "output_type": "execute_result",
          "data": {
            "application/vnd.google.colaboratory.intrinsic+json": {
              "type": "string"
            },
            "text/plain": [
              "'Flying'"
            ]
          },
          "metadata": {
            "tags": []
          },
          "execution_count": 27
        }
      ]
    },
    {
      "cell_type": "code",
      "metadata": {
        "colab": {
          "base_uri": "https://localhost:8080/",
          "height": 52
        },
        "id": "vpXXXOB1WtUp",
        "outputId": "a6c8e346-303d-4488-b08b-02746552b21c"
      },
      "source": [
        "next(generator)"
      ],
      "execution_count": 28,
      "outputs": [
        {
          "output_type": "stream",
          "text": [
            "1\n"
          ],
          "name": "stdout"
        },
        {
          "output_type": "execute_result",
          "data": {
            "application/vnd.google.colaboratory.intrinsic+json": {
              "type": "string"
            },
            "text/plain": [
              "'Jeans'"
            ]
          },
          "metadata": {
            "tags": []
          },
          "execution_count": 28
        }
      ]
    },
    {
      "cell_type": "code",
      "metadata": {
        "colab": {
          "base_uri": "https://localhost:8080/"
        },
        "id": "65RzX9YvWxXo",
        "outputId": "e67e44ce-38ea-465c-91ce-9bbd113c6636"
      },
      "source": [
        "from collections.abc import Iterator\n",
        "\n",
        "isinstance(generator, Iterator)"
      ],
      "execution_count": 29,
      "outputs": [
        {
          "output_type": "execute_result",
          "data": {
            "text/plain": [
              "True"
            ]
          },
          "metadata": {
            "tags": []
          },
          "execution_count": 29
        }
      ]
    },
    {
      "cell_type": "markdown",
      "metadata": {
        "id": "RclxRUySW46g"
      },
      "source": [
        "## Making Iterable from Generator"
      ]
    },
    {
      "cell_type": "code",
      "metadata": {
        "id": "qCewayCwsR5D"
      },
      "source": [
        "class Sqaures:\n",
        "    def __init__(self, n):\n",
        "        self.n = n\n",
        "\n",
        "    def __iter__(self):\n",
        "        return Sqaures.squares_gen(self.n)\n",
        "\n",
        "    @staticmethod\n",
        "    def squares_gen(n):\n",
        "        for i in range(n):\n",
        "            yield i ** 2"
      ],
      "execution_count": 30,
      "outputs": []
    },
    {
      "cell_type": "code",
      "metadata": {
        "id": "VAP3iAT8aGHc"
      },
      "source": [
        "sq = Sqaures(5)"
      ],
      "execution_count": 31,
      "outputs": []
    },
    {
      "cell_type": "code",
      "metadata": {
        "colab": {
          "base_uri": "https://localhost:8080/"
        },
        "id": "NzXoJhQZaIP-",
        "outputId": "a0aafc20-9adf-45e7-a5b4-b6c1573084a0"
      },
      "source": [
        "[num for num in sq]"
      ],
      "execution_count": 32,
      "outputs": [
        {
          "output_type": "execute_result",
          "data": {
            "text/plain": [
              "[0, 1, 4, 9, 16]"
            ]
          },
          "metadata": {
            "tags": []
          },
          "execution_count": 32
        }
      ]
    },
    {
      "cell_type": "code",
      "metadata": {
        "colab": {
          "base_uri": "https://localhost:8080/"
        },
        "id": "uzZ_Q7XNaIv6",
        "outputId": "e0e49223-bd0d-427f-e641-27183bd0e25f"
      },
      "source": [
        "[num for num in sq]"
      ],
      "execution_count": 33,
      "outputs": [
        {
          "output_type": "execute_result",
          "data": {
            "text/plain": [
              "[0, 1, 4, 9, 16]"
            ]
          },
          "metadata": {
            "tags": []
          },
          "execution_count": 33
        }
      ]
    },
    {
      "cell_type": "markdown",
      "metadata": {
        "id": "CGQRKsd0aOhq"
      },
      "source": [
        "## Generator Expressions and Performance\n",
        "\n",
        "### Generator Expression"
      ]
    },
    {
      "cell_type": "code",
      "metadata": {
        "id": "q1hCNd4QiWqi"
      },
      "source": [
        "g = (i**2 for i in range(10))"
      ],
      "execution_count": 45,
      "outputs": []
    },
    {
      "cell_type": "code",
      "metadata": {
        "id": "Sa6r899JidC9",
        "outputId": "84b47abe-e725-4aae-b34a-074d8b38f86f",
        "colab": {
          "base_uri": "https://localhost:8080/"
        }
      },
      "source": [
        "type(g)"
      ],
      "execution_count": 46,
      "outputs": [
        {
          "output_type": "execute_result",
          "data": {
            "text/plain": [
              "generator"
            ]
          },
          "metadata": {
            "tags": []
          },
          "execution_count": 46
        }
      ]
    },
    {
      "cell_type": "code",
      "metadata": {
        "id": "QiC1ydriieyu",
        "outputId": "6b34fdbe-50d7-42b1-9b3b-8eb9a89b2ec6",
        "colab": {
          "base_uri": "https://localhost:8080/"
        }
      },
      "source": [
        "for item in g:\n",
        "    print(item)"
      ],
      "execution_count": 47,
      "outputs": [
        {
          "output_type": "stream",
          "text": [
            "0\n",
            "1\n",
            "4\n",
            "9\n",
            "16\n",
            "25\n",
            "36\n",
            "49\n",
            "64\n",
            "81\n"
          ],
          "name": "stdout"
        }
      ]
    },
    {
      "cell_type": "markdown",
      "metadata": {
        "id": "SNcIVjuAiiaM"
      },
      "source": [
        "### Performance - Defining and Execution Speed"
      ]
    },
    {
      "cell_type": "code",
      "metadata": {
        "id": "06iUQ1ZuaJJH"
      },
      "source": [
        "from timeit import timeit\n",
        "from math import factorial\n",
        "\n",
        "def combo(n, k):\n",
        "    return factorial(n) // (factorial(k) * factorial(n-k))"
      ],
      "execution_count": 34,
      "outputs": []
    },
    {
      "cell_type": "code",
      "metadata": {
        "colab": {
          "base_uri": "https://localhost:8080/"
        },
        "id": "HHIYB4iogLJF",
        "outputId": "fcf230ae-42e2-4346-81be-b46dea1db253"
      },
      "source": [
        "size = 600\n",
        "timeit('[[combo(n, k) for k in range(n+1)] for n in range(size+1)]', globals=globals(), number=1)"
      ],
      "execution_count": 39,
      "outputs": [
        {
          "output_type": "execute_result",
          "data": {
            "text/plain": [
              "3.345305541000016"
            ]
          },
          "metadata": {
            "tags": []
          },
          "execution_count": 39
        }
      ]
    },
    {
      "cell_type": "code",
      "metadata": {
        "colab": {
          "base_uri": "https://localhost:8080/"
        },
        "id": "NWTcxOH_gMsG",
        "outputId": "7cb9ffff-17ed-40e3-db79-65ccfab6c7a8"
      },
      "source": [
        "size = 600\n",
        "timeit('((combo(n, k) for k in range(n+1)) for n in range(size+1))', globals=globals(), number=1)"
      ],
      "execution_count": 55,
      "outputs": [
        {
          "output_type": "execute_result",
          "data": {
            "text/plain": [
              "9.998000678024255e-06"
            ]
          },
          "metadata": {
            "tags": []
          },
          "execution_count": 55
        }
      ]
    },
    {
      "cell_type": "markdown",
      "metadata": {
        "id": "V9LSTCFWh49h"
      },
      "source": [
        "Here, the execution is so fast because generators are lazy and they are just getting defined.  \n",
        "If we execute both of them then the execution time is almost similar as shown below"
      ]
    },
    {
      "cell_type": "code",
      "metadata": {
        "id": "6BQCVR-iiLKs"
      },
      "source": [
        "def pascal_list(size):\n",
        "    l = [[combo(n, k) for k in range(n+1)] for n in range(size+1)]\n",
        "    for row in l:\n",
        "        for item in row:\n",
        "            pass\n",
        "\n",
        "def pascal_gen(size):\n",
        "    g = ((combo(n, k) for k in range(n+1)) for n in range(size+1))\n",
        "    for row in g:\n",
        "        for item in row:\n",
        "            pass"
      ],
      "execution_count": 42,
      "outputs": []
    },
    {
      "cell_type": "code",
      "metadata": {
        "colab": {
          "base_uri": "https://localhost:8080/"
        },
        "id": "wkTHGpgXgN0-",
        "outputId": "5da37705-80a9-41ab-dad9-e92e7ae9ee0e"
      },
      "source": [
        "\n",
        "size = 600\n",
        "timeit('pascal_list(size)', globals=globals(), number=1)"
      ],
      "execution_count": 43,
      "outputs": [
        {
          "output_type": "execute_result",
          "data": {
            "text/plain": [
              "3.312629384000502"
            ]
          },
          "metadata": {
            "tags": []
          },
          "execution_count": 43
        }
      ]
    },
    {
      "cell_type": "code",
      "metadata": {
        "colab": {
          "base_uri": "https://localhost:8080/"
        },
        "id": "Y8rpeckDgPb6",
        "outputId": "ce5cf6a6-800c-4cfd-e77d-71fec5f65044"
      },
      "source": [
        "size = 600\n",
        "timeit('pascal_gen(size)', globals=globals(), number=1)"
      ],
      "execution_count": 44,
      "outputs": [
        {
          "output_type": "execute_result",
          "data": {
            "text/plain": [
              "3.3068681499999"
            ]
          },
          "metadata": {
            "tags": []
          },
          "execution_count": 44
        }
      ]
    },
    {
      "cell_type": "markdown",
      "metadata": {
        "id": "xiWyLupzio7S"
      },
      "source": [
        "### Performance - Memory"
      ]
    },
    {
      "cell_type": "code",
      "metadata": {
        "id": "m703c_rpgmZ0"
      },
      "source": [
        "import tracemalloc"
      ],
      "execution_count": 48,
      "outputs": []
    },
    {
      "cell_type": "code",
      "metadata": {
        "id": "tRvMiG4Jis-r"
      },
      "source": [
        "def pascal_list(size):\n",
        "    l = [[combo(n, k) for k in range(n+1)] for n in range(size+1)]\n",
        "    for row in l:\n",
        "        for item in row:\n",
        "            pass\n",
        "    stats = tracemalloc.take_snapshot().statistics('lineno')\n",
        "    print(stats[0].size, 'bytes')"
      ],
      "execution_count": 49,
      "outputs": []
    },
    {
      "cell_type": "code",
      "metadata": {
        "id": "czrTyVvliuIW"
      },
      "source": [
        "def pascal_gen(size):\n",
        "    g = ((combo(n, k) for k in range(n+1)) for n in range(size+1))\n",
        "    for row in g:\n",
        "        for item in row:\n",
        "            pass\n",
        "    stats = tracemalloc.take_snapshot().statistics('lineno')\n",
        "    print(stats[0].size, 'bytes')"
      ],
      "execution_count": 50,
      "outputs": []
    },
    {
      "cell_type": "code",
      "metadata": {
        "id": "SioWQr4NivPE",
        "outputId": "194b576f-6c31-47be-dfe0-cae633e62556",
        "colab": {
          "base_uri": "https://localhost:8080/"
        }
      },
      "source": [
        "tracemalloc.stop()\n",
        "tracemalloc.clear_traces()\n",
        "tracemalloc.start()\n",
        "pascal_list(300)"
      ],
      "execution_count": 53,
      "outputs": [
        {
          "output_type": "stream",
          "text": [
            "1998608 bytes\n"
          ],
          "name": "stdout"
        }
      ]
    },
    {
      "cell_type": "code",
      "metadata": {
        "id": "mC43tXPMiwU4",
        "outputId": "c8fac5e4-f226-4fce-c969-eb3c921078a2",
        "colab": {
          "base_uri": "https://localhost:8080/"
        }
      },
      "source": [
        "tracemalloc.stop()\n",
        "tracemalloc.clear_traces()\n",
        "tracemalloc.start()\n",
        "pascal_gen(300)"
      ],
      "execution_count": 54,
      "outputs": [
        {
          "output_type": "stream",
          "text": [
            "9248 bytes\n"
          ],
          "name": "stdout"
        }
      ]
    },
    {
      "cell_type": "markdown",
      "metadata": {
        "id": "C0WPi5GXj33t"
      },
      "source": [
        "## Yield From"
      ]
    },
    {
      "cell_type": "code",
      "metadata": {
        "id": "vN_fzzL_i4wO"
      },
      "source": [
        "def matrix(n):\n",
        "    gen = ( (i * j for j in range(1, n+1))\n",
        "            for i in range(1, n+1)\n",
        "          )\n",
        "    return gen"
      ],
      "execution_count": 60,
      "outputs": []
    },
    {
      "cell_type": "code",
      "metadata": {
        "id": "wfqziVMElmew",
        "outputId": "921ff76a-d697-4903-df17-d9bf4252eac0",
        "colab": {
          "base_uri": "https://localhost:8080/"
        }
      },
      "source": [
        "def matrix_iterator(n):\n",
        "    for row in matrix(n):\n",
        "        for item in row:\n",
        "            yield item\n",
        "\n",
        "for i in matrix_iterator(3):\n",
        "    print(i)"
      ],
      "execution_count": 61,
      "outputs": [
        {
          "output_type": "stream",
          "text": [
            "1\n",
            "2\n",
            "3\n",
            "2\n",
            "4\n",
            "6\n",
            "3\n",
            "6\n",
            "9\n"
          ],
          "name": "stdout"
        }
      ]
    },
    {
      "cell_type": "code",
      "metadata": {
        "id": "acXaxXmZlnn0",
        "outputId": "864a8149-2e0f-4cbc-e04c-b7fc8595b389",
        "colab": {
          "base_uri": "https://localhost:8080/"
        }
      },
      "source": [
        "def matrix_iterator(n):\n",
        "    for row in matrix(n):\n",
        "        yield from row\n",
        "\n",
        "for i in matrix_iterator(3):\n",
        "    print(i)"
      ],
      "execution_count": 63,
      "outputs": [
        {
          "output_type": "stream",
          "text": [
            "1\n",
            "2\n",
            "3\n",
            "2\n",
            "4\n",
            "6\n",
            "3\n",
            "6\n",
            "9\n"
          ],
          "name": "stdout"
        }
      ]
    },
    {
      "cell_type": "markdown",
      "metadata": {
        "id": "vHHw-0tomlV5"
      },
      "source": [
        "## Aggregators"
      ]
    },
    {
      "cell_type": "code",
      "metadata": {
        "id": "-FbmPQ_gl1cz"
      },
      "source": [
        "def squares(n):\n",
        "    for i in range(n):\n",
        "        yield i**2"
      ],
      "execution_count": 64,
      "outputs": []
    },
    {
      "cell_type": "code",
      "metadata": {
        "id": "FpKnnjcxmnv8",
        "outputId": "7ba9e677-9b59-45b8-a26d-ddd5489befab",
        "colab": {
          "base_uri": "https://localhost:8080/"
        }
      },
      "source": [
        "min(squares(5))"
      ],
      "execution_count": 65,
      "outputs": [
        {
          "output_type": "execute_result",
          "data": {
            "text/plain": [
              "0"
            ]
          },
          "metadata": {
            "tags": []
          },
          "execution_count": 65
        }
      ]
    },
    {
      "cell_type": "code",
      "metadata": {
        "id": "w8Dwl3NLmpBv",
        "outputId": "e33fd003-e785-45c4-a074-00b9fee4d529",
        "colab": {
          "base_uri": "https://localhost:8080/"
        }
      },
      "source": [
        "max(squares(5))"
      ],
      "execution_count": 66,
      "outputs": [
        {
          "output_type": "execute_result",
          "data": {
            "text/plain": [
              "16"
            ]
          },
          "metadata": {
            "tags": []
          },
          "execution_count": 66
        }
      ]
    },
    {
      "cell_type": "code",
      "metadata": {
        "id": "MUv87nQcmqIf",
        "outputId": "2f6f337f-7074-4be6-cb30-12671c8e5b27",
        "colab": {
          "base_uri": "https://localhost:8080/"
        }
      },
      "source": [
        "sum(squares(5))"
      ],
      "execution_count": 69,
      "outputs": [
        {
          "output_type": "execute_result",
          "data": {
            "text/plain": [
              "30"
            ]
          },
          "metadata": {
            "tags": []
          },
          "execution_count": 69
        }
      ]
    },
    {
      "cell_type": "code",
      "metadata": {
        "id": "9GSYcydwmrYf",
        "outputId": "e583e6af-6897-4b62-ecd5-50917e9596b6",
        "colab": {
          "base_uri": "https://localhost:8080/"
        }
      },
      "source": [
        "sorted(squares(5), reverse=True)"
      ],
      "execution_count": 70,
      "outputs": [
        {
          "output_type": "execute_result",
          "data": {
            "text/plain": [
              "[16, 9, 4, 1, 0]"
            ]
          },
          "metadata": {
            "tags": []
          },
          "execution_count": 70
        }
      ]
    },
    {
      "cell_type": "markdown",
      "metadata": {
        "id": "m7IN65gUm5wv"
      },
      "source": [
        "## Slicing"
      ]
    },
    {
      "cell_type": "code",
      "metadata": {
        "id": "LtBS2w_jmv0z"
      },
      "source": [
        "import math\n",
        "\n",
        "def factorials(n):\n",
        "    for i in range(n):\n",
        "        yield math.factorial(i)\n",
        "\n",
        "facts = factorials(100)    "
      ],
      "execution_count": 71,
      "outputs": []
    },
    {
      "cell_type": "code",
      "metadata": {
        "id": "WYfe-zwAm-EA",
        "outputId": "3c29b2d8-3c19-4c58-b5ba-5384fecb47e9",
        "colab": {
          "base_uri": "https://localhost:8080/",
          "height": 163
        }
      },
      "source": [
        "facts[0:2]"
      ],
      "execution_count": 72,
      "outputs": [
        {
          "output_type": "error",
          "ename": "TypeError",
          "evalue": "ignored",
          "traceback": [
            "\u001b[0;31m---------------------------------------------------------------------------\u001b[0m",
            "\u001b[0;31mTypeError\u001b[0m                                 Traceback (most recent call last)",
            "\u001b[0;32m<ipython-input-72-47b3f0606218>\u001b[0m in \u001b[0;36m<module>\u001b[0;34m()\u001b[0m\n\u001b[0;32m----> 1\u001b[0;31m \u001b[0mfacts\u001b[0m\u001b[0;34m[\u001b[0m\u001b[0;36m0\u001b[0m\u001b[0;34m:\u001b[0m\u001b[0;36m2\u001b[0m\u001b[0;34m]\u001b[0m\u001b[0;34m\u001b[0m\u001b[0;34m\u001b[0m\u001b[0m\n\u001b[0m",
            "\u001b[0;31mTypeError\u001b[0m: 'generator' object is not subscriptable"
          ]
        }
      ]
    },
    {
      "cell_type": "code",
      "metadata": {
        "id": "Tr-8Ouihm_G8"
      },
      "source": [
        "def slice_(iterable, start, stop):\n",
        "    # Exhaust all the values before the starting point\n",
        "    for _ in range(0, start):\n",
        "        next(iterable)\n",
        "        \n",
        "    # Yield the values in the range of interest\n",
        "    for _ in range(start, stop):\n",
        "        yield(next(iterable))"
      ],
      "execution_count": 73,
      "outputs": []
    },
    {
      "cell_type": "code",
      "metadata": {
        "id": "DUc5UsrKnr8X",
        "outputId": "9728a5cd-854b-408f-82d6-f491453c310a",
        "colab": {
          "base_uri": "https://localhost:8080/"
        }
      },
      "source": [
        "list(slice_(factorials(100), 1, 5))"
      ],
      "execution_count": 74,
      "outputs": [
        {
          "output_type": "execute_result",
          "data": {
            "text/plain": [
              "[1, 2, 6, 24]"
            ]
          },
          "metadata": {
            "tags": []
          },
          "execution_count": 74
        }
      ]
    },
    {
      "cell_type": "code",
      "metadata": {
        "id": "mn6WIg7snteH",
        "outputId": "f8b3a8f7-23c0-4a9c-9008-9f5637af6f4a",
        "colab": {
          "base_uri": "https://localhost:8080/"
        }
      },
      "source": [
        "from itertools import islice\n",
        "\n",
        "list(islice(factorials(10), 0, 3))"
      ],
      "execution_count": 75,
      "outputs": [
        {
          "output_type": "execute_result",
          "data": {
            "text/plain": [
              "[1, 1, 2]"
            ]
          },
          "metadata": {
            "tags": []
          },
          "execution_count": 75
        }
      ]
    },
    {
      "cell_type": "code",
      "metadata": {
        "id": "Yzl_TcGYnvL7",
        "outputId": "d151bcb1-6c64-48a8-e3d1-ff1de998948c",
        "colab": {
          "base_uri": "https://localhost:8080/",
          "height": 163
        }
      },
      "source": [
        "list(islice(factorials(10), -1, -3))"
      ],
      "execution_count": 76,
      "outputs": [
        {
          "output_type": "error",
          "ename": "ValueError",
          "evalue": "ignored",
          "traceback": [
            "\u001b[0;31m---------------------------------------------------------------------------\u001b[0m",
            "\u001b[0;31mValueError\u001b[0m                                Traceback (most recent call last)",
            "\u001b[0;32m<ipython-input-76-20df4ca4c898>\u001b[0m in \u001b[0;36m<module>\u001b[0;34m()\u001b[0m\n\u001b[0;32m----> 1\u001b[0;31m \u001b[0mlist\u001b[0m\u001b[0;34m(\u001b[0m\u001b[0mislice\u001b[0m\u001b[0;34m(\u001b[0m\u001b[0mfactorials\u001b[0m\u001b[0;34m(\u001b[0m\u001b[0;36m10\u001b[0m\u001b[0;34m)\u001b[0m\u001b[0;34m,\u001b[0m \u001b[0;34m-\u001b[0m\u001b[0;36m1\u001b[0m\u001b[0;34m,\u001b[0m \u001b[0;34m-\u001b[0m\u001b[0;36m3\u001b[0m\u001b[0;34m)\u001b[0m\u001b[0;34m)\u001b[0m\u001b[0;34m\u001b[0m\u001b[0;34m\u001b[0m\u001b[0m\n\u001b[0m",
            "\u001b[0;31mValueError\u001b[0m: Indices for islice() must be None or an integer: 0 <= x <= sys.maxsize."
          ]
        }
      ]
    },
    {
      "cell_type": "markdown",
      "metadata": {
        "id": "hgPbHE3yorpg"
      },
      "source": [
        "## Selecting and Filtering"
      ]
    },
    {
      "cell_type": "code",
      "metadata": {
        "id": "SL8Cez7Cn1k4"
      },
      "source": [
        "def gen_cubes(n):\n",
        "    for i in range(n):\n",
        "        print(f'yielding {i}')\n",
        "        yield i**3\n",
        "\n",
        "def is_odd(x):\n",
        "    return x % 2 == 1\n",
        "\n",
        "def is_even(x):\n",
        "    return x % 2 == 0"
      ],
      "execution_count": 77,
      "outputs": []
    },
    {
      "cell_type": "markdown",
      "metadata": {
        "id": "i5SF7pPcpgFT"
      },
      "source": [
        "### filter()"
      ]
    },
    {
      "cell_type": "code",
      "metadata": {
        "id": "sMR12k3iovc1"
      },
      "source": [
        "filtered = filter(is_odd, gen_cubes(10))"
      ],
      "execution_count": 78,
      "outputs": []
    },
    {
      "cell_type": "markdown",
      "metadata": {
        "id": "LcFlvP1qphyV"
      },
      "source": [
        "### filterfalse()"
      ]
    },
    {
      "cell_type": "code",
      "metadata": {
        "id": "8l0PIy0NownY"
      },
      "source": [
        "from itertools import filterfalse\n",
        "\n",
        "evens = filterfalse(is_odd, gen_cubes(10))"
      ],
      "execution_count": 79,
      "outputs": []
    },
    {
      "cell_type": "markdown",
      "metadata": {
        "id": "HwFKYq8vpkN9"
      },
      "source": [
        "### takewhile()"
      ]
    },
    {
      "cell_type": "code",
      "metadata": {
        "id": "_3GgW_LAoxyA",
        "outputId": "c9a991fe-6bc0-499b-9037-132e30af9110",
        "colab": {
          "base_uri": "https://localhost:8080/"
        }
      },
      "source": [
        "from itertools import takewhile\n",
        "\n",
        "list(takewhile(lambda x: 0 <= x <= 0.9, gen_cubes(15)))"
      ],
      "execution_count": 80,
      "outputs": [
        {
          "output_type": "stream",
          "text": [
            "yielding 0\n",
            "yielding 1\n"
          ],
          "name": "stdout"
        },
        {
          "output_type": "execute_result",
          "data": {
            "text/plain": [
              "[0]"
            ]
          },
          "metadata": {
            "tags": []
          },
          "execution_count": 80
        }
      ]
    },
    {
      "cell_type": "markdown",
      "metadata": {
        "id": "AIZWL0E5pmf2"
      },
      "source": [
        "### dropwhile()"
      ]
    },
    {
      "cell_type": "code",
      "metadata": {
        "id": "qp2F5KZJo4IV",
        "outputId": "05af417f-8c48-4e0b-9cf1-f178458c1ab1",
        "colab": {
          "base_uri": "https://localhost:8080/"
        }
      },
      "source": [
        "from itertools import dropwhile\n",
        "\n",
        "l = [1, 3, 5, 2, 1]\n",
        "list(dropwhile(lambda x: x < 5, l))"
      ],
      "execution_count": 81,
      "outputs": [
        {
          "output_type": "execute_result",
          "data": {
            "text/plain": [
              "[5, 2, 1]"
            ]
          },
          "metadata": {
            "tags": []
          },
          "execution_count": 81
        }
      ]
    },
    {
      "cell_type": "markdown",
      "metadata": {
        "id": "GmapP8-uppJF"
      },
      "source": [
        "### zip()"
      ]
    },
    {
      "cell_type": "code",
      "metadata": {
        "id": "yYj3a5NAo569",
        "outputId": "751da865-6942-48c1-80f0-4d8f072cf7b6",
        "colab": {
          "base_uri": "https://localhost:8080/"
        }
      },
      "source": [
        "data = ['a', 'b', 'c', 'd', 'e']\n",
        "selectors = [True, False, 1, 0]\n",
        "\n",
        "[item for item, truth_value in zip(data, selectors) if truth_value]"
      ],
      "execution_count": 82,
      "outputs": [
        {
          "output_type": "execute_result",
          "data": {
            "text/plain": [
              "['a', 'c']"
            ]
          },
          "metadata": {
            "tags": []
          },
          "execution_count": 82
        }
      ]
    },
    {
      "cell_type": "markdown",
      "metadata": {
        "id": "U4-8bVBwprGf"
      },
      "source": [
        "### compress()"
      ]
    },
    {
      "cell_type": "code",
      "metadata": {
        "id": "ctlCCs0Po707",
        "outputId": "77f0d4a1-8a48-4cb0-e751-0bb24dc84e6a",
        "colab": {
          "base_uri": "https://localhost:8080/"
        }
      },
      "source": [
        "from itertools import compress\n",
        "list(compress(data, selectors))"
      ],
      "execution_count": 83,
      "outputs": [
        {
          "output_type": "execute_result",
          "data": {
            "text/plain": [
              "['a', 'c']"
            ]
          },
          "metadata": {
            "tags": []
          },
          "execution_count": 83
        }
      ]
    },
    {
      "cell_type": "markdown",
      "metadata": {
        "id": "qgOoWXfwpwjS"
      },
      "source": [
        "## Infinite Iterators"
      ]
    },
    {
      "cell_type": "code",
      "metadata": {
        "id": "46Uv0ujgo9hp"
      },
      "source": [
        "from itertools import (\n",
        "    count,\n",
        "    cycle,\n",
        "    repeat, \n",
        "    islice)"
      ],
      "execution_count": 84,
      "outputs": []
    },
    {
      "cell_type": "markdown",
      "metadata": {
        "id": "DzZogu4op9A2"
      },
      "source": [
        "### count()"
      ]
    },
    {
      "cell_type": "code",
      "metadata": {
        "id": "kEiRFHFeqAIR"
      },
      "source": [
        "from decimal import Decimal\n",
        "\n",
        "g = count(10)\n",
        "g = count(10, step=2)\n",
        "g = count(1+1j, 1+2j)\n",
        "g = count(Decimal('0.0'), Decimal('0.1'))"
      ],
      "execution_count": 85,
      "outputs": []
    },
    {
      "cell_type": "markdown",
      "metadata": {
        "id": "N3C98oU1qDuY"
      },
      "source": [
        "### cycle()"
      ]
    },
    {
      "cell_type": "code",
      "metadata": {
        "id": "9bvvZI13qBmU"
      },
      "source": [
        "g = cycle(('red', 'green', 'blue'))\n",
        "list(islice(g, 8))\n",
        "\n",
        "def colors():\n",
        "    yield 'red'\n",
        "    yield 'green'\n",
        "    yield 'blue'\n",
        "cols = colors()\n",
        "g = cycle(cols)"
      ],
      "execution_count": 86,
      "outputs": []
    },
    {
      "cell_type": "markdown",
      "metadata": {
        "id": "lIaZFOwRqHxR"
      },
      "source": [
        "### repeat()"
      ]
    },
    {
      "cell_type": "code",
      "metadata": {
        "id": "exbLOi-JqG04",
        "outputId": "691b6894-b8f4-45d6-b091-01640fb8b8e3",
        "colab": {
          "base_uri": "https://localhost:8080/"
        }
      },
      "source": [
        "g = repeat('Python')\n",
        "for _ in range(5):\n",
        "    print(next(g))"
      ],
      "execution_count": 89,
      "outputs": [
        {
          "output_type": "stream",
          "text": [
            "Python\n",
            "Python\n",
            "Python\n",
            "Python\n",
            "Python\n"
          ],
          "name": "stdout"
        }
      ]
    },
    {
      "cell_type": "code",
      "metadata": {
        "id": "VB9JkoDbqKjJ"
      },
      "source": [
        ""
      ],
      "execution_count": null,
      "outputs": []
    }
  ]
}